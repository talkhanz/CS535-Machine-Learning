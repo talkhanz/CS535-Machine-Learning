{
  "nbformat": 4,
  "nbformat_minor": 0,
  "metadata": {
    "kernelspec": {
      "display_name": "Python 3",
      "language": "python",
      "name": "python3"
    },
    "language_info": {
      "codemirror_mode": {
        "name": "ipython",
        "version": 3
      },
      "file_extension": ".py",
      "mimetype": "text/x-python",
      "name": "python",
      "nbconvert_exporter": "python",
      "pygments_lexer": "ipython3",
      "version": "3.7.5"
    },
    "colab": {
      "name": "CS535_21100313_A2.ipynb",
      "provenance": [],
      "collapsed_sections": [],
      "toc_visible": true
    }
  },
  "cells": [
    {
      "cell_type": "markdown",
      "metadata": {
        "id": "H1a9LOIUhioR"
      },
      "source": [
        "# Programming Assignment 2: Linear Regression\n",
        "\n",
        "## Instructions\n",
        "\n",
        "- The aim of this assignment is to give you a hands-on with a real-life machine learning application.\n",
        "- Use separate training, and testing data as discussed in class.\n",
        "- You can only use Python programming language and Jupyter Notebooks.\n",
        "- There are three parts of this assignment. In parts 1 & 2, you can only use **numpy, scipy, pandas, matplotlib and are not allowed to use NLTK, scikit-learn or any other machine learning toolkit**. However, you have to use **scikit-learn** in part 3.\n",
        "- Carefully read the submission instructions, plagiarism and late days policy below.\n",
        "- Deadline to submit this assignment is: **Friday, 30th October 2020**.\n",
        "\n",
        "## Submission Instructions\n",
        "\n",
        "Submit your code both as notebook file (.ipynb) and python script (.py) on LMS. The name of both files should be your roll number. If you don’t know how to save .ipynb as .py [see this](https://i.stack.imgur.com/L1rQH.png). **Failing to submit any one of them will result in the reduction of marks**.\n",
        "\n",
        "## Plagiarism Policy\n",
        "\n",
        "The code MUST be done independently. Any plagiarism or cheating of work from others or the internet will be immediately referred to the DC. If you are confused about what constitutes plagiarism, it is YOUR responsibility to consult with the instructor or the TA in a timely manner. No “after the fact” negotiations will be possible. The only way to guarantee that you do not lose marks is “DO NOT LOOK AT ANYONE ELSE'S CODE NOR DISCUSS IT WITH THEM”.\n",
        "\n",
        "## Late Days Policy\n",
        "\n",
        "The deadline of the assignment is final. However, in order to accommodate all the 11th hour issues there is a late submission policy i.e. you can submit your assignment within 3 days after the deadline with 25% deduction each day.\n",
        "\n",
        "\n",
        "## Introduction\n",
        "\n",
        "In this exercise, you will implement linear regression and get to see it work on data. After completing this assignment, you will know:\n",
        "- How to implement linear regression from scratch.\n",
        "- How to estimate linear regression parameters using gradient descent.\n",
        "- How to make predictions on new data using learned parameters.\n",
        "\n",
        "Let's start with the necessary imports."
      ]
    },
    {
      "cell_type": "code",
      "metadata": {
        "id": "OLHr5YvZhioT"
      },
      "source": [
        "import os\n",
        "import numpy as np\n",
        "from matplotlib import pyplot\n",
        "%matplotlib inline"
      ],
      "execution_count": 103,
      "outputs": []
    },
    {
      "cell_type": "markdown",
      "metadata": {
        "id": "457GtCmLhioX"
      },
      "source": [
        "## 1. Linear Regression with one variable\n",
        "\n",
        "Linear regression assumes a linear relationship between the input variables (X) and the single output variable (Y). More specifically, that output (Y) can be calculated from a linear combination of the input variables (X). When there is a single input variable, the method is referred to as a simple linear regression.\n",
        "\n",
        "Now you will implement simple linear regression to predict profits for a food truck. Suppose you are the CEO of a restaurant franchise and are considering different cities for opening a new outlet. The chain already has trucks in various cities and you have data for profits and populations from the cities. You would like to use this data to help you select which city to expand to next."
      ]
    },
    {
      "cell_type": "markdown",
      "metadata": {
        "id": "C-sdW1TAhioY"
      },
      "source": [
        "### 1.1 Load the dataset\n",
        "\n",
        "The file `Data/ex1data1.txt` contains the dataset for our linear regression problem. The first column is the population of a city (in 10,000s) and the second column is the profit of a food truck in that city (in $10,000s). A negative value for profit indicates a loss. \n",
        "\n",
        "We provide you with the code needed to load this data. The dataset is loaded from the data file into the variables `X` and `Y`."
      ]
    },
    {
      "cell_type": "code",
      "metadata": {
        "id": "hx03IO5OhioZ"
      },
      "source": [
        "data = np.loadtxt(os.path.join('Data', 'ex1data.txt'), delimiter=',')\n",
        "X, Y = data[:, 0], data[:, 1]"
      ],
      "execution_count": 104,
      "outputs": []
    },
    {
      "cell_type": "markdown",
      "metadata": {
        "id": "xxk1dSrNhioc"
      },
      "source": [
        "### 1.2 Plot the dataset\n",
        "Before starting on any task, it is often useful to understand the data by visualizing it. For this dataset, you can use a scatter plot to visualize the data, since it has only two properties to plot (profit and population). Execute the next cell to visualize the data."
      ]
    },
    {
      "cell_type": "code",
      "metadata": {
        "id": "AbXr_vtqhiod",
        "outputId": "3ee3e244-c2d2-423f-d454-0ce51601b9c4",
        "colab": {
          "base_uri": "https://localhost:8080/",
          "height": 297
        }
      },
      "source": [
        "pyplot.plot(X, Y, 'ro', ms=10, mec='k')\n",
        "pyplot.ylabel('Profit in $10,000')\n",
        "pyplot.xlabel('Population of City in 10,000s')"
      ],
      "execution_count": 105,
      "outputs": [
        {
          "output_type": "execute_result",
          "data": {
            "text/plain": [
              "Text(0.5, 0, 'Population of City in 10,000s')"
            ]
          },
          "metadata": {
            "tags": []
          },
          "execution_count": 105
        },
        {
          "output_type": "display_data",
          "data": {
            "image/png": "[encoded data removed]",
            "text/plain": [
              "<Figure size 432x288 with 1 Axes>"
            ]
          },
          "metadata": {
            "tags": [],
            "needs_background": "light"
          }
        }
      ]
    },
    {
      "cell_type": "markdown",
      "metadata": {
        "id": "wcMBX11Uhiog"
      },
      "source": [
        "### 1.3 Learn the parameters\n",
        "In this part, you will fit the linear regression parameters $\\theta$ to the food truck dataset using gradient descent.\n",
        "\n",
        "The objective of linear regression is to minimize the cost function\n",
        "\n",
        "$$ J(\\theta) = \\frac{1}{2m} \\sum_{i=1}^m \\left( h_{\\theta}(x^{(i)}) - y^{(i)}\\right)^2 ------ (i)$$ \n",
        "\n",
        "where the hypothesis $h_\\theta(x)$ is given by the linear model\n",
        "$$ h_\\theta(x) = \\theta_0 + \\theta_1 x ------ (ii)$$\n",
        "\n",
        "The parameters of your model are the $\\theta_j$ values. These are\n",
        "the values you will adjust to minimize cost $J(\\theta)$. One way to do this is to\n",
        "use the batch gradient descent algorithm. In batch gradient descent, each\n",
        "iteration performs the update\n",
        "\n",
        "$$ \\theta_0 = \\theta_0 - \\alpha \\frac{1}{m} \\sum_{i=1}^m \\left( h_\\theta(x^{(i)}) - y^{(i)}\\right) ------ (iii)$$\n",
        "\n",
        "$$ \\theta_1 = \\theta_1 - \\alpha \\frac{1}{m} \\sum_{i=1}^m \\left( h_\\theta(x^{(i)}) - y^{(i)}\\right)x^{(i)} ------ (iv)$$\n",
        "\n",
        "With each step of gradient descent, your parameters $\\theta_j$ come closer to the optimal values that will achieve the lowest cost J($\\theta$).\n",
        "\n",
        "Let's start by implementing the hypothesis $h_\\theta(x)$."
      ]
    },
    {
      "cell_type": "code",
      "metadata": {
        "id": "VpPr82DPhioh"
      },
      "source": [
        "### GRADED FUNCTION ###\n",
        "def predict(x, theta0, theta1):\n",
        "    '''\n",
        "    Calculates the hypothesis for any input sample `x` given the parameters `theta`.\n",
        "    \n",
        "    Arguments\n",
        "    ---------\n",
        "    x : float\n",
        "        The input sample.\n",
        "    \n",
        "    theta0 : float\n",
        "        The parameter for the regression function.\n",
        "        \n",
        "    theta1 : float\n",
        "        The parameter for the regression function.\n",
        "    \n",
        "    Returns\n",
        "    -------\n",
        "    h_x : float\n",
        "        The hypothesis for input sample.\n",
        "    \n",
        "    Hint(s)\n",
        "    -------\n",
        "    Compute equation (ii).\n",
        "    '''\n",
        "    # You need to return the following variable(s) correctly\n",
        "    h_x = 0.0\n",
        "    \n",
        "    ### START CODE HERE ### (≈ 1 line of code)\n",
        "    h_x = theta0 + x * theta1\n",
        "    \n",
        "    ### END CODE HERE ###\n",
        "    \n",
        "    return h_x"
      ],
      "execution_count": 106,
      "outputs": []
    },
    {
      "cell_type": "markdown",
      "metadata": {
        "id": "Lo1fjxlshion"
      },
      "source": [
        "Execute the next cell to verify your implementation."
      ]
    },
    {
      "cell_type": "code",
      "metadata": {
        "id": "0wdWjXtahioo",
        "outputId": "b544189c-b069-4a3a-d046-67dfee45ce91",
        "colab": {
          "base_uri": "https://localhost:8080/"
        }
      },
      "source": [
        "h_x = predict(x=2, theta0=1.0, theta1=1.0)\n",
        "print('With x = 2, theta0 = 1.0, theta1 = 1.0\\nPredicted Hypothesis h(x) = %.2f' % h_x)\n",
        "print(\"Expected hypothesis h(x) = 3.00\\n\")"
      ],
      "execution_count": 107,
      "outputs": [
        {
          "output_type": "stream",
          "text": [
            "With x = 2, theta0 = 1.0, theta1 = 1.0\n",
            "Predicted Hypothesis h(x) = 3.00\n",
            "Expected hypothesis h(x) = 3.00\n",
            "\n"
          ],
          "name": "stdout"
        }
      ]
    },
    {
      "cell_type": "markdown",
      "metadata": {
        "id": "CMtKMB2zhior"
      },
      "source": [
        "As you perform gradient descent to learn minimize the cost function  $J(\\theta)$, it is helpful to monitor the convergence by computing the cost. In this section, you will implement a function to calculate  $J(\\theta)$ so you can check the convergence of your gradient descent implementation."
      ]
    },
    {
      "cell_type": "code",
      "metadata": {
        "id": "z7plSkaxhios"
      },
      "source": [
        "### GRADED FUNCTION ###\n",
        "def computeCost(X, Y, theta0, theta1):\n",
        "    '''\n",
        "    Computes cost for linear regression. Computes the cost of using `theta` as the\n",
        "    parameter for linear regression to fit the data points in `X` and `Y`.\n",
        "    \n",
        "    Arguments\n",
        "    ---------\n",
        "    X : array\n",
        "        The input dataset of shape (m, ), where m is the number of training examples.\n",
        "    \n",
        "    Y : array\n",
        "        The values of the function at each data point. This is a vector of\n",
        "        shape (m, ), where m is the number of training examples.\n",
        "    \n",
        "    theta0 : float\n",
        "        The parameter for the regression function.\n",
        "        \n",
        "    theta1 : float\n",
        "        The parameter for the regression function.\n",
        "    \n",
        "    Returns\n",
        "    -------\n",
        "    J : float\n",
        "        The value of the regression cost function.\n",
        "    \n",
        "    Hint(s)\n",
        "    -------\n",
        "    Compute equation (i).\n",
        "    '''\n",
        "    # initialize some useful values\n",
        "    m = Y.size  # number of training examples\n",
        "    \n",
        "    # You need to return the following variable(s) correctly\n",
        "    J = 0\n",
        "        \n",
        "    ### START CODE HERE ### (≈ 3-4 lines of code)\n",
        "    total_error = 0 \n",
        "    for i in range(m):\n",
        "      h_x_i = predict(x=X[i],theta0=theta0,theta1=theta1)\n",
        "      diff_squared = (h_x_i - Y[i]) ** 2\n",
        "      total_error  = total_error + diff_squared\n",
        "    J = (1/(2*m)) * total_error\n",
        "    ### END CODE HERE ###\n",
        "    return J"
      ],
      "execution_count": 108,
      "outputs": []
    },
    {
      "cell_type": "markdown",
      "metadata": {
        "id": "lfh4BgQ6hiov"
      },
      "source": [
        "Execute the next cell to verify your implementation."
      ]
    },
    {
      "cell_type": "code",
      "metadata": {
        "id": "IPVywq2lhiow",
        "outputId": "e2d17e0b-3e67-4aea-c9b7-e47496beaf92",
        "colab": {
          "base_uri": "https://localhost:8080/"
        }
      },
      "source": [
        "J = computeCost(X, Y, theta0=1.0, theta1=1.0)\n",
        "print('With theta0 = 1.0, theta1 = 1.0\\nPredicted cost J = %.2f' % J)\n",
        "print(\"Expected cost J = 10.27\\n\")"
      ],
      "execution_count": 109,
      "outputs": [
        {
          "output_type": "stream",
          "text": [
            "With theta0 = 1.0, theta1 = 1.0\n",
            "Predicted cost J = 10.27\n",
            "Expected cost J = 10.27\n",
            "\n"
          ],
          "name": "stdout"
        }
      ]
    },
    {
      "cell_type": "markdown",
      "metadata": {
        "id": "YgAPKqchhioz"
      },
      "source": [
        "Next, you will complete a function which implements gradient descent. The loop structure has been written for you, and you only need to supply the updates to parameters $\\theta_j$  within each iteration (epoch). \n",
        "\n",
        "The starter code for the function `gradientDescent` calls `computeCost` on every iteration and saves the cost to a `python` list. Assuming you have implemented `gradientDescent` and `computeCost` correctly, your value of $J(\\theta)$ should never increase, and should converge to a steady value by the end of the algorithm."
      ]
    },
    {
      "cell_type": "code",
      "metadata": {
        "id": "OJS_4zv-hio0"
      },
      "source": [
        "### GRADED FUNCTION ###\n",
        "def gradientDescent(X, Y, alpha, n_epoch):\n",
        "    \"\"\"\n",
        "    Performs gradient descent to learn `theta`. Updates `theta` by taking `n_epoch`\n",
        "    gradient steps with learning rate `alpha`.\n",
        "    \n",
        "    Arguments\n",
        "    ---------\n",
        "    X : array\n",
        "        The input dataset of shape (m, ), where m is the number of training examples.\n",
        "    \n",
        "    Y : array\n",
        "        The values of the function at each data point. This is a vector of\n",
        "        shape (m, ), where m is the number of training examples.\n",
        "    \n",
        "    alpha : float\n",
        "        The learning rate.\n",
        "    \n",
        "    n_epoch : int\n",
        "        The number of iterations for gradient descent. \n",
        "    \n",
        "    Returns\n",
        "    -------\n",
        "    theta0 : float\n",
        "        The parameter for the regression function.\n",
        "        \n",
        "    theta1 : float\n",
        "        The parameter for the regression function.\n",
        "    \n",
        "    J : list\n",
        "        A python list for the values of the cost function after each iteration.\n",
        "    \n",
        "    Hint(s)\n",
        "    -------\n",
        "    Compute equation (iii) and (iv).\n",
        "\n",
        "    While debugging, it can be useful to print out the values of \n",
        "    the cost function (computeCost) here.\n",
        "    \"\"\"\n",
        "    # initialize some useful values\n",
        "    m = Y.size  # number of training examples\n",
        "    J = list()  # list to store cost\n",
        "    \n",
        "    # You need to return the following variables correctly\n",
        "    theta0 = 0.0\n",
        "    theta1 = 0.0\n",
        "    \n",
        "    for epoch in range(n_epoch):\n",
        "        ### START CODE HERE ### (≈ 5-10 lines of code)\n",
        "        error_theta0 = 0\n",
        "        error_theta1 = 0 \n",
        "        for i in range(m):\n",
        "          error_theta0 = error_theta0+  ( predict(X[i],theta0,theta1) - Y[i] ) \n",
        "          error_theta1 = error_theta1+  ( predict(X[i],theta0,theta1) - Y[i] )*X[i]\n",
        "        deriv_theta0 = (1/m) * error_theta0\n",
        "        deriv_theta1 = (1/m) * error_theta1\n",
        "        theta0 = theta0 - alpha * deriv_theta0\n",
        "        theta1 = theta1 - alpha * deriv_theta1\n",
        "        ### END CODE HERE ###\n",
        "\n",
        "        J.append(computeCost(X, Y, theta0, theta1))\n",
        "    return theta0, theta1, J"
      ],
      "execution_count": 110,
      "outputs": []
    },
    {
      "cell_type": "markdown",
      "metadata": {
        "id": "lCE9818dhio3"
      },
      "source": [
        "Execute the next cell to verify your implementation."
      ]
    },
    {
      "cell_type": "code",
      "metadata": {
        "id": "Skq9csPQhio3",
        "outputId": "3a32e4c2-92fb-40fb-ba74-f552058c985c",
        "colab": {
          "base_uri": "https://localhost:8080/"
        }
      },
      "source": [
        "n_epoch = 1500\n",
        "alpha = 0.01\n",
        "\n",
        "theta0, theta1, J = gradientDescent(X ,Y, alpha, n_epoch)\n",
        "print('Predicted theta0 = %.4f, theta1 = %.4f, cost = %.4f' % (theta0, theta1, J[-1]))\n",
        "print('Expected theta0 = -3.6303, theta1 = 1.1664, cost = 4.4834')"
      ],
      "execution_count": 111,
      "outputs": [
        {
          "output_type": "stream",
          "text": [
            "Predicted theta0 = -3.6303, theta1 = 1.1664, cost = 4.4834\n",
            "Expected theta0 = -3.6303, theta1 = 1.1664, cost = 4.4834\n"
          ],
          "name": "stdout"
        }
      ]
    },
    {
      "cell_type": "markdown",
      "metadata": {
        "id": "6LMZ6V8Rhio6"
      },
      "source": [
        "### 1.4 Plot the linear fit\n",
        "\n",
        "Use your learned parameters $\\theta_j$ to plot the linear fit."
      ]
    },
    {
      "cell_type": "code",
      "metadata": {
        "id": "t7T53185hio7",
        "outputId": "b49f6f7e-a87d-48f7-9a8d-cbaee05ca7de",
        "colab": {
          "base_uri": "https://localhost:8080/",
          "height": 297
        }
      },
      "source": [
        "h_x = list()\n",
        "for x in X:\n",
        "    h_x.append(predict(x, theta0, theta1))\n",
        "pyplot.plot(X, Y, 'ro', ms=10, mec='k')\n",
        "pyplot.ylabel('Profit in $10,000')\n",
        "pyplot.xlabel('Population of City in 10,000s')\n",
        "pyplot.plot(X, h_x, '-')\n",
        "pyplot.legend(['Training data', 'Linear regression'])"
      ],
      "execution_count": 112,
      "outputs": [
        {
          "output_type": "execute_result",
          "data": {
            "text/plain": [
              "<matplotlib.legend.Legend at 0x7f0d2a22ebe0>"
            ]
          },
          "metadata": {
            "tags": []
          },
          "execution_count": 112
        },
        {
          "output_type": "display_data",
          "data": {
            "image/png": "[encoded data removed]",
            "text/plain": [
              "<Figure size 432x288 with 1 Axes>"
            ]
          },
          "metadata": {
            "tags": [],
            "needs_background": "light"
          }
        }
      ]
    },
    {
      "cell_type": "markdown",
      "metadata": {
        "id": "YvCaB_Lhhio9"
      },
      "source": [
        "### 1.5 Make predictions\n",
        "\n",
        "Use your learned parameters $\\theta_j$ to make food truck profit predictions in areas with population of 40,000 and 65,000."
      ]
    },
    {
      "cell_type": "code",
      "metadata": {
        "id": "RzP51dvNhio-",
        "outputId": "655d1ccc-9d4c-4430-f33d-4ffb609c5094",
        "colab": {
          "base_uri": "https://localhost:8080/"
        }
      },
      "source": [
        "print('For population = 40,000, predicted profit = $%.2f' % (predict(4, theta0, theta1)*10000))\n",
        "print('For population = 65,000, predicted profit = $%.2f' % (predict(6.5, theta0, theta1)*10000))"
      ],
      "execution_count": 113,
      "outputs": [
        {
          "output_type": "stream",
          "text": [
            "For population = 40,000, predicted profit = $10351.58\n",
            "For population = 65,000, predicted profit = $39510.64\n"
          ],
          "name": "stdout"
        }
      ]
    },
    {
      "cell_type": "markdown",
      "metadata": {
        "id": "ljE7h3SIhipB"
      },
      "source": [
        "## 2. Multivariate Linear Regression\n",
        "\n",
        "Now, you will implement multivariate linear regression (from scratch) to predict the the median price of homes in a Boston suburb during the mid-1970s. To do this, you are given with the dataset that has 404 examples in the train set and 102 examples in test set. Each example has 13 input variables (features) and one output variable (price in $10,000s). Below is the description of input variables:\n",
        "\n",
        "- Per capita crime rate.\n",
        "- The proportion of residential land zoned for lots over 25,000 square feet.\n",
        "- The proportion of non-retail business acres per town.\n",
        "- Charles River dummy variable (= 1 if tract bounds river; 0 otherwise).\n",
        "- Nitric oxides concentration (parts per 10 million).\n",
        "- The average number of rooms per dwelling.\n",
        "- The proportion of owner-occupied units built before 1940.\n",
        "- Weighted distances to five Boston employment centers.\n",
        "- Index of accessibility to radial highways.\n",
        "- Full-value property-tax rate per $10,000.\n",
        "- Pupil-teacher ratio by town.\n",
        "- 1000 * (Bk - 0.63) ** 2 where Bk is the proportion of Black people by town.\n",
        "- Percentage lower status of the population.\n",
        "\n",
        "Each one of these input features is stored using a different scale. Some features are represented by a proportion between 0 and 1, other features are ranges between 1 and 12, some are ranges between 0 and 100, and so on. This is often the case with real-world data, and understanding how to explore and clean such data is an important skill to develop.\n",
        "\n",
        "A common way to normalize features that use different scales and ranges is:\n",
        "\n",
        "- Subtract the mean value of each feature from the dataset.\n",
        "- After subtracting the mean, additionally scale (divide) the feature values by their respective standard deviations.\n",
        "\n",
        "Note: We only use examples of the train set to estimate the mean and standard deviation.\n",
        "\n",
        "You have to follow exactly the same steps as above i.e. implement hypothesis, cost function and gradient descent for multivariate linear regression to learn parameters $\\theta$ using train set. Finally, report the cost (error) using your learned parameters $\\theta$ on test set. Expected Mean Square Error on this dataset is 11.5 - 12.5 approximately. \n",
        "\n",
        "We provide you with the code needed to load this dataset. The dataset is loaded from the data files into the variables `train_X`, `train_Y`, `test_X` and `test_Y`."
      ]
    },
    {
      "cell_type": "code",
      "metadata": {
        "id": "Vn9xsuoNhipC"
      },
      "source": [
        "\n",
        "train_Y = np.loadtxt(os.path.join('Data', 'ex2trainlabels.txt'))\n",
        "test_Y = np.loadtxt(os.path.join('Data', 'ex2testlabels.txt'))"
      ],
      "execution_count": 114,
      "outputs": []
    },
    {
      "cell_type": "code",
      "metadata": {
        "id": "HcuoK9B5QELU"
      },
      "source": [
        "''' Start your code of part 2 from here, add the new code cells as per your requirement. '''\n",
        "def append_one(X):\n",
        "  new_X = []\n",
        "  for x in X:\n",
        "    new_x = np.insert(x,0,1,axis=0)\n",
        "    new_X.append(new_x)\n",
        "  new_X = np.array(new_X)\n",
        "  return new_X\n",
        "def predict_multi_v1(X,thetas):\n",
        "  '''\n",
        "  x --one training instance \n",
        "  thetas -- a list containing all thetas\n",
        "  '''\n",
        "  h_x = np.dot(X.transpose(),thetas)\n",
        "  return h_x\n",
        "\n",
        "def computeCost_multi_v1(X,Y,thetas):\n",
        "    # initialize some useful values\n",
        "    m = Y.size  # number of training examples\n",
        "    # You need to return the following variable(s) correctly\n",
        "    J = 0        \n",
        "    ### START CODE HERE ### (≈ 3-4 lines of code)\n",
        "    total_error = 0 \n",
        "    h_x = predict_multi_v1(X,thetas)\n",
        "    diff = np.subtract(h_x,Y)\n",
        "    diff_squared = np.power(diff,2)\n",
        "    total_error  = np.sum(diff_squared)\n",
        "    J = (1/(2*m)) * total_error\n",
        "    ### END CODE HERE ###\n",
        "    return J\n",
        "\n",
        "def gradientDescent_multi_v1(X, Y, alpha, n_epoch):\n",
        "  m = Y.size  # number of training examples\n",
        "  J = list()  # list to store cost\n",
        "  thetas = np.array([0,0,0,0,0,0,0,0,0,0,0,0,0,0])\n",
        "  h_x = predict_multi_v1(X,thetas)\n",
        "  deriv_theta = np.zeros(thetas.shape)\n",
        "  for epoch in range(n_epoch):\n",
        "    h_x = predict_multi_v1(X,thetas)\n",
        "    diff = np.subtract(h_x,Y)\n",
        "    for j in range(14):\n",
        "      error = []\n",
        "      for i in range(404):\n",
        "        feature_j = X[j][i]\n",
        "        error.append(diff[i] * feature_j)\n",
        "      error = np.array(error)\n",
        "      sum_error = np.sum(error)\n",
        "      deriv_theta[j] = (1/m) * sum_error\n",
        "    thetas = thetas - deriv_theta*alpha\n",
        "    J.append(computeCost_multi_v1(X,Y,thetas))\n",
        "  return J,thetas\n",
        "def extract_each_feature_v1(X):\n",
        "  features = []\n",
        "  len_X = len(X[0])\n",
        "  for i in range(len_X):\n",
        "    feature = X[:,i]\n",
        "    features.append(feature)\n",
        "  return features\n",
        "def get_training_feature_stats_v1(features):\n",
        "  means = []\n",
        "  stds = []\n",
        "  for feature in features:\n",
        "    m = np.mean(feature)\n",
        "    s = np.std(feature)\n",
        "    means.append(m)\n",
        "    stds.append(s)\n",
        "  return means,stds\n",
        "\n",
        "def feature_scaling_test_v1(features,train_means,train_stds):\n",
        "  scaled_features = []\n",
        "  i = 0\n",
        "  for feature in features:\n",
        "    m = train_means[i]\n",
        "    s = train_stds[i]\n",
        "    if s ==0 :\n",
        "      s = 1\n",
        "    new_f = np.array([(f - m)/s for f in feature])\n",
        "\n",
        "    scaled_features.append(new_f)\n",
        "    i = i + 1\n",
        "  scaled_features = np.array(scaled_features)\n",
        "  return scaled_features\n",
        "def feature_scaling_train_v1(features):\n",
        "  scaled_features = []\n",
        "  for feature in features:\n",
        "    m = np.mean(feature)\n",
        "    s = np.std(feature)\n",
        "    if s == 0:\n",
        "      s = 1\n",
        "    new_f = np.array([(f - m)/s for f in feature])\n",
        "    scaled_features.append(new_f)\n",
        "  scaled_features = np.array(scaled_features)\n",
        "  return scaled_features"
      ],
      "execution_count": 115,
      "outputs": []
    },
    {
      "cell_type": "code",
      "metadata": {
        "id": "ZQLCtTLTOwE5",
        "outputId": "94d3fa11-9b4b-43c5-eb32-9d48a61b4254",
        "colab": {
          "base_uri": "https://localhost:8080/"
        }
      },
      "source": [
        "train_X = np.loadtxt(os.path.join('Data', 'ex2traindata.txt'))\n",
        "train_f = extract_each_feature_v1(train_X)\n",
        "train_f_scaled = feature_scaling_train_v1(train_f)\n",
        "train_f_scaled = append_one(train_f_scaled.transpose())\n",
        "train_f_scaled= train_f_scaled.transpose()\n",
        "alpha = 0.01\n",
        "epochs = 1500\n",
        "import datetime\n",
        "start_time = datetime.datetime.now()\n",
        "J,thetas = gradientDescent_multi_v1(train_f_scaled,train_Y,alpha,epochs)\n",
        "finish_time = datetime.datetime.now() - start_time\n",
        "\n",
        "print('gradient descent finished in ',finish_time)"
      ],
      "execution_count": 116,
      "outputs": [
        {
          "output_type": "stream",
          "text": [
            "gradient descent finished in  0:00:05.918230\n"
          ],
          "name": "stdout"
        }
      ]
    },
    {
      "cell_type": "code",
      "metadata": {
        "id": "KqhIPq-7J1AV",
        "outputId": "b800de0c-9149-447b-e29a-de26b6b22e27",
        "colab": {
          "base_uri": "https://localhost:8080/"
        }
      },
      "source": [
        "print(\"best value of thetas are\",thetas)"
      ],
      "execution_count": 117,
      "outputs": [
        {
          "output_type": "stream",
          "text": [
            "best value of thetas are [22.39504315 -1.02290935  1.19268125 -0.24360022  1.03969007 -2.15988878\n",
            "  2.52300631  0.10477013 -3.33112452  1.96799045 -0.99307112 -1.91038575\n",
            "  0.83157512 -3.96881253]\n"
          ],
          "name": "stdout"
        }
      ]
    },
    {
      "cell_type": "code",
      "metadata": {
        "id": "gQ64SfXoMkk1"
      },
      "source": [
        "def compute_mean_square_error(predicted,actual):\n",
        "  error = 0 \n",
        "  n =len(predictions)\n",
        "  for i in range(n):\n",
        "    d = (predicted[i] - actual[i])**2\n",
        "    error = error + d\n",
        "  mse = error / (2* n)\n",
        "  return mse"
      ],
      "execution_count": 118,
      "outputs": []
    },
    {
      "cell_type": "code",
      "metadata": {
        "id": "-mz1JEmU6agJ",
        "outputId": "9930074a-d20e-4272-edd5-711ea5ba70e2",
        "colab": {
          "base_uri": "https://localhost:8080/"
        }
      },
      "source": [
        "test_X = np.loadtxt(os.path.join('Data', 'ex2testdata.txt'))\n",
        "test_X = np.array(test_X)\n",
        "test_f = extract_each_feature_v1(test_X)\n",
        "train_means,train_stds = get_training_feature_stats_v1(train_f)\n",
        "test_f_scaled = feature_scaling_test_v1(test_f,train_means,train_stds)\n",
        "test_f_scaled = append_one(test_f_scaled.transpose())\n",
        "test_f_scaled= test_f_scaled.transpose()\n",
        "\n",
        "predictions = predict_multi_v1(test_f_scaled,thetas)\n",
        "mse = compute_mean_square_error(predictions,test_Y)\n",
        "print(\"mse is \",mse)\n"
      ],
      "execution_count": 119,
      "outputs": [
        {
          "output_type": "stream",
          "text": [
            "mse is  11.473302931574151\n"
          ],
          "name": "stdout"
        }
      ]
    },
    {
      "cell_type": "markdown",
      "metadata": {
        "id": "c5oRHl6FhipI"
      },
      "source": [
        "## 3. Regularized Linear Regression\n",
        "\n",
        "Now, you'll use the [scikit-learn](https://scikit-learn.org/stable/index.html) to implement [Linear Regression](https://scikit-learn.org/stable/modules/generated/sklearn.linear_model.LinearRegression.html), [Ridge](https://scikit-learn.org/stable/modules/generated/sklearn.linear_model.Ridge.html#sklearn.linear_model.Ridge), [Lasso](https://scikit-learn.org/stable/modules/generated/sklearn.linear_model.Lasso.html#sklearn.linear_model.Lasso), [Elastic Net](https://scikit-learn.org/stable/modules/generated/sklearn.linear_model.ElasticNet.html#sklearn.linear_model.ElasticNet) and apply them to Boston house pricing dataset (provided in part 2). Try out different values of regularization coefficient (known as alpha in scikit-learn) and use the [Mean Squared Error](https://scikit-learn.org/stable/modules/generated/sklearn.metrics.mean_squared_error.html) to report loss with each regression. Finally, plot the regularization coefficients alpha (x-axis) with learned parameters $\\theta$ (y-axis) for Ridge and Lasso. Please read [this blog](https://scienceloft.com/technical/understanding-lasso-and-ridge-regression/) to get better understanding of the desired plots."
      ]
    },
    {
      "cell_type": "code",
      "metadata": {
        "id": "qICmXdTnhipJ"
      },
      "source": [
        "from sklearn.linear_model import LinearRegression\n",
        "from sklearn.linear_model import Ridge\n",
        "from sklearn.linear_model import Lasso\n",
        "from sklearn.linear_model import ElasticNet\n",
        "from sklearn.metrics import mean_squared_error\n",
        "import matplotlib.pyplot as plt\n"
      ],
      "execution_count": 120,
      "outputs": []
    },
    {
      "cell_type": "code",
      "metadata": {
        "id": "HeyChs1dhipL",
        "outputId": "6269c3c5-7bc2-425a-dcf6-f29d061d3e0f",
        "colab": {
          "base_uri": "https://localhost:8080/"
        }
      },
      "source": [
        "''' Start your code of part 3 from here, add the new code cells as per your requirement. '''\n",
        "test_X = np.loadtxt(os.path.join('Data', 'ex2testdata.txt'))\n",
        "train_X = np.loadtxt(os.path.join('Data', 'ex2traindata.txt'))\n",
        "test_X = append_one(test_X)\n",
        "train_X = append_one(train_X)\n",
        "lr = LinearRegression(normalize= True).fit(train_X, train_Y)\n",
        "\n",
        "lr_pred = lr.predict(test_X)\n",
        "print('mse for linear regression is',mean_squared_error(test_Y,lr_pred))"
      ],
      "execution_count": 121,
      "outputs": [
        {
          "output_type": "stream",
          "text": [
            "mse for linear regression is 23.195599256422962\n"
          ],
          "name": "stdout"
        }
      ]
    },
    {
      "cell_type": "code",
      "metadata": {
        "id": "7h06-KCGhipP",
        "outputId": "fee6bf9f-e406-454f-c806-d4591bb78cc7",
        "colab": {
          "base_uri": "https://localhost:8080/",
          "height": 299
        }
      },
      "source": [
        "alphas =np.logspace(-2,5,10)\n",
        "alphas = np.insert(alphas,0,0) # just to show my mse at 0 is around 23. you can comment this line to remove warnings\n",
        "coefs = []\n",
        "mses = []\n",
        "for al in alphas:\n",
        "  ridge = Ridge(alpha = al,normalize= True)\n",
        "  ridge.fit(train_X,train_Y)\n",
        "  Y_pred = ridge.predict(test_X)\n",
        "  mse = mean_squared_error(Y_pred,test_Y)\n",
        "  mses.append(mse)\n",
        "  coefs.append(ridge.coef_)\n",
        "ax = plt.gca()\n",
        "ax.plot(alphas, coefs)\n",
        "ax.set_xscale('log')\n",
        "plt.xlabel('log alpha')\n",
        "plt.ylabel('theta weights')\n",
        "plt.title('Ridge coefficients')\n",
        "plt.show()\n"
      ],
      "execution_count": 122,
      "outputs": [
        {
          "output_type": "display_data",
          "data": {
            "image/png": "[encoded data removed]",
            "text/plain": [
              "<Figure size 432x288 with 1 Axes>"
            ]
          },
          "metadata": {
            "tags": [],
            "needs_background": "light"
          }
        }
      ]
    },
    {
      "cell_type": "code",
      "metadata": {
        "id": "QoYQSxb-YmcT",
        "outputId": "c614b11c-90e7-466b-9206-41f1079b1d53",
        "colab": {
          "base_uri": "https://localhost:8080/",
          "height": 317
        }
      },
      "source": [
        "print('mse at alpha=0 is',mses[0])\n",
        "ax = plt.gca()\n",
        "plt.plot(alphas,mses)\n",
        "ax.set_xscale('log')\n",
        "plt.xlabel('log alpha')\n",
        "plt.ylabel('Ridge MSE')\n",
        "plt.title('MSE vs Alpha')\n",
        "plt.show()"
      ],
      "execution_count": 123,
      "outputs": [
        {
          "output_type": "stream",
          "text": [
            "mse at alpha=0 is 23.195599256422955\n"
          ],
          "name": "stdout"
        },
        {
          "output_type": "display_data",
          "data": {
            "image/png": "[encoded data removed]",
            "text/plain": [
              "<Figure size 432x288 with 1 Axes>"
            ]
          },
          "metadata": {
            "tags": [],
            "needs_background": "light"
          }
        }
      ]
    },
    {
      "cell_type": "code",
      "metadata": {
        "id": "36CAa39UjhXB",
        "outputId": "0bbd6498-b53c-46c8-a365-6d87b1fa9eb2",
        "colab": {
          "base_uri": "https://localhost:8080/",
          "height": 423
        }
      },
      "source": [
        "alphas =np.logspace(-2,5,10)\n",
        "alphas = np.insert(alphas,0,0) # just to show my mse at 0 is around 23. you can comment this line to remove warnings\n",
        "coefs = []\n",
        "mses = []\n",
        "for al in alphas:\n",
        "  lasso = Lasso(alpha = al,normalize= True)\n",
        "  lasso.fit(train_X,train_Y)\n",
        "  Y_pred = lasso.predict(test_X)\n",
        "  mse = mean_squared_error(Y_pred,test_Y)\n",
        "  mses.append(mse)\n",
        "  coefs.append(lasso.coef_)\n",
        "ax = plt.gca()\n",
        "ax.plot(alphas, coefs)\n",
        "ax.set_xscale('log')\n",
        "plt.xlabel('log alpha')\n",
        "plt.ylabel('theta weights')\n",
        "plt.title('Lasso coefficients')\n",
        "plt.show()"
      ],
      "execution_count": 124,
      "outputs": [
        {
          "output_type": "stream",
          "text": [
            "/usr/local/lib/python3.6/dist-packages/ipykernel_launcher.py:7: UserWarning: With alpha=0, this algorithm does not converge well. You are advised to use the LinearRegression estimator\n",
            "  import sys\n",
            "/usr/local/lib/python3.6/dist-packages/sklearn/linear_model/_coordinate_descent.py:476: UserWarning: Coordinate descent with no regularization may lead to unexpected results and is discouraged.\n",
            "  positive)\n",
            "/usr/local/lib/python3.6/dist-packages/sklearn/linear_model/_coordinate_descent.py:476: ConvergenceWarning: Objective did not converge. You might want to increase the number of iterations. Duality gap: 4444.969769346331, tolerance: 3.4187390099009907\n",
            "  positive)\n"
          ],
          "name": "stderr"
        },
        {
          "output_type": "display_data",
          "data": {
            "image/png": "[encoded data removed]",
            "text/plain": [
              "<Figure size 432x288 with 1 Axes>"
            ]
          },
          "metadata": {
            "tags": [],
            "needs_background": "light"
          }
        }
      ]
    },
    {
      "cell_type": "code",
      "metadata": {
        "id": "gddZ0ePHkQe2",
        "outputId": "4efc9f5a-c85d-4939-e7d4-630ceb778426",
        "colab": {
          "base_uri": "https://localhost:8080/",
          "height": 317
        }
      },
      "source": [
        "print('mse at alpha=0 is',mses[0])\n",
        "ax = plt.gca()\n",
        "plt.plot(alphas,mses)\n",
        "ax.set_xscale('log')\n",
        "plt.xlabel('log alpha')\n",
        "plt.ylabel('Lasso MSE')\n",
        "plt.title('MSE vs Alpha')\n",
        "plt.show()"
      ],
      "execution_count": 125,
      "outputs": [
        {
          "output_type": "stream",
          "text": [
            "mse at alpha=0 is 23.195599256422852\n"
          ],
          "name": "stdout"
        },
        {
          "output_type": "display_data",
          "data": {
            "image/png": "[encoded data removed]",
            "text/plain": [
              "<Figure size 432x288 with 1 Axes>"
            ]
          },
          "metadata": {
            "tags": [],
            "needs_background": "light"
          }
        }
      ]
    },
    {
      "cell_type": "code",
      "metadata": {
        "id": "Dpg3cONikmn2",
        "outputId": "a608d8a9-fa46-48a7-82e6-d75ca6d7bbb1",
        "colab": {
          "base_uri": "https://localhost:8080/",
          "height": 423
        }
      },
      "source": [
        "alphas =np.logspace(-2,5,10)\n",
        "alphas = np.insert(alphas,0,0) # just to show my mse at 0 is around 23. you can comment this line to remove warnings\n",
        "coefs = []\n",
        "mses = []\n",
        "for al in alphas:\n",
        "  el = ElasticNet(alpha = al,normalize= True)\n",
        "  el.fit(train_X,train_Y)\n",
        "  Y_pred = el.predict(test_X)\n",
        "  mse = mean_squared_error(Y_pred,test_Y)\n",
        "  mses.append(mse)\n",
        "  coefs.append(el.coef_)\n",
        "ax = plt.gca()\n",
        "ax.plot(alphas, coefs)\n",
        "ax.set_xscale('log')\n",
        "plt.xlabel('log alpha')\n",
        "plt.ylabel('theta weights')\n",
        "plt.title('Elastic Net coefficients')\n",
        "plt.show()"
      ],
      "execution_count": 126,
      "outputs": [
        {
          "output_type": "stream",
          "text": [
            "/usr/local/lib/python3.6/dist-packages/ipykernel_launcher.py:7: UserWarning: With alpha=0, this algorithm does not converge well. You are advised to use the LinearRegression estimator\n",
            "  import sys\n",
            "/usr/local/lib/python3.6/dist-packages/sklearn/linear_model/_coordinate_descent.py:476: UserWarning: Coordinate descent with no regularization may lead to unexpected results and is discouraged.\n",
            "  positive)\n",
            "/usr/local/lib/python3.6/dist-packages/sklearn/linear_model/_coordinate_descent.py:476: ConvergenceWarning: Objective did not converge. You might want to increase the number of iterations. Duality gap: 4444.969769346331, tolerance: 3.4187390099009907\n",
            "  positive)\n"
          ],
          "name": "stderr"
        },
        {
          "output_type": "display_data",
          "data": {
            "image/png": "[encoded data removed]",
            "text/plain": [
              "<Figure size 432x288 with 1 Axes>"
            ]
          },
          "metadata": {
            "tags": [],
            "needs_background": "light"
          }
        }
      ]
    },
    {
      "cell_type": "code",
      "metadata": {
        "id": "t2Xlrz0hlfG7",
        "outputId": "bbdbdc9b-23d6-4261-e83e-df8c2e3bfab6",
        "colab": {
          "base_uri": "https://localhost:8080/",
          "height": 317
        }
      },
      "source": [
        "print('mse at alpha=0 is',mses[0])\n",
        "ax = plt.gca()\n",
        "plt.plot(alphas,mses)\n",
        "ax.set_xscale('log')\n",
        "plt.xlabel('log alpha')\n",
        "plt.ylabel('Enet MSE')\n",
        "plt.title('MSE vs Alpha')\n",
        "plt.show()"
      ],
      "execution_count": 127,
      "outputs": [
        {
          "output_type": "stream",
          "text": [
            "mse at alpha=0 is 23.195599256422852\n"
          ],
          "name": "stdout"
        },
        {
          "output_type": "display_data",
          "data": {
            "image/png": "[encoded data removed]",
            "text/plain": [
              "<Figure size 432x288 with 1 Axes>"
            ]
          },
          "metadata": {
            "tags": [],
            "needs_background": "light"
          }
        }
      ]
    }
  ]
}